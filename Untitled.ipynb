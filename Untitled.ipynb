{
 "cells": [
  {
   "cell_type": "code",
   "execution_count": 3,
   "metadata": {},
   "outputs": [],
   "source": [
    "import pandas as pd\n",
    "import time\n",
    "import deribit_data as dm\n",
    "import matplotlib.pyplot as plt"
   ]
  },
  {
   "cell_type": "code",
   "execution_count": 4,
   "metadata": {},
   "outputs": [],
   "source": [
    "data = dm.Options(\"BTC\")"
   ]
  },
  {
   "cell_type": "code",
   "execution_count": 5,
   "metadata": {},
   "outputs": [
    {
     "name": "stderr",
     "output_type": "stream",
     "text": [
      "100%|██████████| 310/310 [02:33<00:00,  2.02it/s]\n"
     ]
    }
   ],
   "source": [
    "df = data.get_options_stats()"
   ]
  },
  {
   "cell_type": "code",
   "execution_count": 23,
   "metadata": {},
   "outputs": [],
   "source": [
    "x = df.copy()"
   ]
  },
  {
   "cell_type": "code",
   "execution_count": 29,
   "metadata": {},
   "outputs": [
    {
     "data": {
      "text/plain": [
       "Index(['expiration_timestamp', 'option_type', 'instrument_name', 'strike',\n",
       "       'underlying_price', 'underlying_index', 'timestamp', 'stats', 'state',\n",
       "       'settlement_price', 'open_interest', 'min_price', 'max_price',\n",
       "       'mark_price', 'mark_iv', 'last_price', 'interest_rate', 'index_price',\n",
       "       'greeks', 'estimated_delivery_price', 'change_id', 'bids', 'bid_iv',\n",
       "       'best_bid_price', 'best_bid_amount', 'best_ask_price',\n",
       "       'best_ask_amount', 'asks', 'ask_iv'],\n",
       "      dtype='object')"
      ]
     },
     "execution_count": 29,
     "metadata": {},
     "output_type": "execute_result"
    }
   ],
   "source": [
    "x.columns.drop_duplicates()"
   ]
  },
  {
   "cell_type": "code",
   "execution_count": 31,
   "metadata": {},
   "outputs": [],
   "source": [
    "df = df.loc[:,~df.columns.duplicated()]"
   ]
  },
  {
   "cell_type": "code",
   "execution_count": 37,
   "metadata": {},
   "outputs": [
    {
     "data": {
      "text/html": [
       "<div>\n",
       "<style scoped>\n",
       "    .dataframe tbody tr th:only-of-type {\n",
       "        vertical-align: middle;\n",
       "    }\n",
       "\n",
       "    .dataframe tbody tr th {\n",
       "        vertical-align: top;\n",
       "    }\n",
       "\n",
       "    .dataframe thead th {\n",
       "        text-align: right;\n",
       "    }\n",
       "</style>\n",
       "<table border=\"1\" class=\"dataframe\">\n",
       "  <thead>\n",
       "    <tr style=\"text-align: right;\">\n",
       "      <th></th>\n",
       "      <th>instrument_name</th>\n",
       "      <th>last_price</th>\n",
       "      <th>mark_iv</th>\n",
       "      <th>open_interest</th>\n",
       "    </tr>\n",
       "  </thead>\n",
       "  <tbody>\n",
       "    <tr>\n",
       "      <th>0</th>\n",
       "      <td>BTC-22MAY20-9250-P</td>\n",
       "      <td>0.0460</td>\n",
       "      <td>77.72</td>\n",
       "      <td>138.8</td>\n",
       "    </tr>\n",
       "    <tr>\n",
       "      <th>1</th>\n",
       "      <td>BTC-22MAY20-12000-C</td>\n",
       "      <td>0.0050</td>\n",
       "      <td>112.28</td>\n",
       "      <td>110.6</td>\n",
       "    </tr>\n",
       "    <tr>\n",
       "      <th>2</th>\n",
       "      <td>BTC-26JUN20-8000-C</td>\n",
       "      <td>0.1825</td>\n",
       "      <td>90.26</td>\n",
       "      <td>771.0</td>\n",
       "    </tr>\n",
       "    <tr>\n",
       "      <th>3</th>\n",
       "      <td>BTC-14MAY20-8875-C</td>\n",
       "      <td>0.0410</td>\n",
       "      <td>90.65</td>\n",
       "      <td>24.7</td>\n",
       "    </tr>\n",
       "    <tr>\n",
       "      <th>4</th>\n",
       "      <td>BTC-25SEP20-9000-P</td>\n",
       "      <td>0.1770</td>\n",
       "      <td>83.37</td>\n",
       "      <td>266.9</td>\n",
       "    </tr>\n",
       "  </tbody>\n",
       "</table>\n",
       "</div>"
      ],
      "text/plain": [
       "       instrument_name  last_price  mark_iv  open_interest\n",
       "0   BTC-22MAY20-9250-P      0.0460    77.72          138.8\n",
       "1  BTC-22MAY20-12000-C      0.0050   112.28          110.6\n",
       "2   BTC-26JUN20-8000-C      0.1825    90.26          771.0\n",
       "3   BTC-14MAY20-8875-C      0.0410    90.65           24.7\n",
       "4   BTC-25SEP20-9000-P      0.1770    83.37          266.9"
      ]
     },
     "execution_count": 37,
     "metadata": {},
     "output_type": "execute_result"
    }
   ],
   "source": [
    "df[['instrument_name', 'last_price', 'mark_iv', 'open_interest']].head()"
   ]
  },
  {
   "cell_type": "code",
   "execution_count": null,
   "metadata": {},
   "outputs": [],
   "source": []
  },
  {
   "cell_type": "code",
   "execution_count": null,
   "metadata": {},
   "outputs": [],
   "source": []
  }
 ],
 "metadata": {
  "kernelspec": {
   "display_name": "Python 3",
   "language": "python",
   "name": "python3"
  },
  "language_info": {
   "codemirror_mode": {
    "name": "ipython",
    "version": 3
   },
   "file_extension": ".py",
   "mimetype": "text/x-python",
   "name": "python",
   "nbconvert_exporter": "python",
   "pygments_lexer": "ipython3",
   "version": "3.7.4"
  }
 },
 "nbformat": 4,
 "nbformat_minor": 4
}
